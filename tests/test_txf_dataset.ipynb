{
 "cells": [
  {
   "cell_type": "code",
   "execution_count": 2,
   "metadata": {},
   "outputs": [],
   "source": [
    "import os\n",
    "import sys\n",
    "\n",
    "sys.path.append('../grow_and_prune/')\n",
    "\n",
    "from treelib import Tree, Node\n",
    "from copy import deepcopy\n",
    "import json\n",
    "\n",
    "from txf_dataset import TxfNode, TxfDataset"
   ]
  },
  {
   "cell_type": "code",
   "execution_count": 9,
   "metadata": {},
   "outputs": [
    {
     "name": "stdout",
     "output_type": "stream",
     "text": [
      "1[model_hash]\n",
      "├── 0.9[child_model_hash]\n",
      "╰── 0.89[child_model_hash2]\n",
      "    ╰── 0.91[grand_child_model_hash]\n",
      "\n"
     ]
    }
   ],
   "source": [
    "# Test basic treelib.Tree object and its load/store\n",
    "tree = Tree()\n",
    "\n",
    "tree.create_node(tag='model_hash', identifier='model_hash', \n",
    "                 data=TxfNode('model_hash', mode=None, loss=1))\n",
    "tree.create_node(tag='child_model_hash', identifier='child_model_hash', parent=tree.get_node('model_hash'),\n",
    "                 data=TxfNode('child_model_hash', mode='grow_attn_head', loss=0.9))\n",
    "tree.create_node(tag='child_model_hash2', identifier='child_model_hash2', parent=tree.get_node('model_hash'),\n",
    "                 data=TxfNode('child_model_hash2', mode='grow_attn_head', loss=0.89))\n",
    "tree.create_node(tag='grand_child_model_hash', identifier='grand_child_model_hash', \n",
    "                 parent=tree.get_node('child_model_hash2'),\n",
    "                 data=TxfNode('grand_child_model_hash', mode='prune_attn_head', loss=0.91))\n",
    "\n",
    "tree.show(data_property='loss', idhidden=False, line_type='ascii-exr')"
   ]
  },
  {
   "cell_type": "code",
   "execution_count": 3,
   "metadata": {},
   "outputs": [],
   "source": [
    "# Test storing of the tree object\n",
    "tree = Tree()\n",
    "\n",
    "tree.create_node(tag='model_hash', identifier='model_hash', \n",
    "                 data=TxfNode('model_hash', mode=None, loss=1))\n",
    "tree.create_node(tag='child_model_hash', identifier='child_model_hash', parent=tree.get_node('model_hash'),\n",
    "                 data=TxfNode('child_model_hash', mode='grow_attn_head', loss=0.9))\n",
    "\n",
    "tree_dict = eval(str(tree.to_dict(with_data=True)))\n",
    "json.dump(tree_dict, open('test_dataset.json', 'w+'))"
   ]
  },
  {
   "cell_type": "code",
   "execution_count": 53,
   "metadata": {},
   "outputs": [
    {
     "name": "stdout",
     "output_type": "stream",
     "text": [
      "1[model_hash]\n",
      "╰── 0.9[child_model_hash]\n",
      "\n"
     ]
    }
   ],
   "source": [
    "# Test loading of tree object\n",
    "json_dict = json.load(open('test_dataset.json', 'r'))\n",
    "\n",
    "def _load_tree(tree: Tree, tree_dict: dict, parent=None):\n",
    "    \"\"\"Recursive function to load the tree\n",
    "\n",
    "    Args:\n",
    "        tree (Tree): treelib.Tree object\n",
    "        tree_dict (dict): tree dictionary loaded from dataset_file\n",
    "        parent (Node, optional): parent node to start with\n",
    "    \"\"\"\n",
    "    model_hash, model_value = list(tree_dict.items())[0]\n",
    "\n",
    "    if parent is None:\n",
    "        tree.create_node(tag=model_hash, identifier=model_hash, data=TxfNode(**model_value['data']))\n",
    "        parent = tree.get_node(model_hash)\n",
    "    else:\n",
    "        tree.create_node(tag=model_hash, identifier=model_hash, parent=parent, data=TxfNode(**model_value['data']))\n",
    "\n",
    "    for child in tree_dict[model_hash].get('children', []):  \n",
    "        _load_tree(tree, child, parent)\n",
    "\n",
    "    return tree\n",
    "\n",
    "tree = _load_tree(Tree(), json_dict)\n",
    "tree.show(data_property='loss', idhidden=False, line_type='ascii-exr')"
   ]
  },
  {
   "cell_type": "code",
   "execution_count": 25,
   "metadata": {},
   "outputs": [
    {
     "data": {
      "text/plain": [
       "{'model_hash': {'children': [{'child_model_hash': {'data': {'model_hash': 'child_model_hash',\n",
       "      'mode': 'grow_attn_head',\n",
       "      'loss': 0.9}}}],\n",
       "  'data': {'model_hash': 'model_hash', 'mode': None, 'loss': 1}}}"
      ]
     },
     "execution_count": 25,
     "metadata": {},
     "output_type": "execute_result"
    }
   ],
   "source": [
    "# Test TxfDataset\n",
    "txf_dataset = TxfDataset('./test_dataset.json', '../models/')\n",
    "\n",
    "txf_dataset.to_dict()"
   ]
  },
  {
   "cell_type": "code",
   "execution_count": 41,
   "metadata": {},
   "outputs": [
    {
     "data": {
      "text/plain": [
       "{'model_hash': {'children': [{'child_model_hash': {'data': {'model_hash': 'child_model_hash',\n",
       "      'mode': 'grow_attn_head',\n",
       "      'loss': 0.85}}}],\n",
       "  'data': {'model_hash': 'model_hash', 'mode': None, 'loss': 1}}}"
      ]
     },
     "execution_count": 41,
     "metadata": {},
     "output_type": "execute_result"
    }
   ],
   "source": [
    "# Test update_node()\n",
    "# txf_dataset.dataset.update_node('child_model_hash', data=TxfNode('child_model_hash', \n",
    "#                                         txf_dataset.dataset.get_node('child_model_hash').data.mode,\n",
    "#                                         0.85))\n",
    "# txf_dataset.to_dict()\n",
    "\n",
    "txf_dataset.dataset['child_model_hash'].data.loss = 0.85\n",
    "txf_dataset.to_dict()"
   ]
  }
 ],
 "metadata": {
  "kernelspec": {
   "display_name": "txf_design-space [~/.conda/envs/txf_design-space/]",
   "language": "python",
   "name": "conda_txf_design-space"
  },
  "language_info": {
   "codemirror_mode": {
    "name": "ipython",
    "version": 3
   },
   "file_extension": ".py",
   "mimetype": "text/x-python",
   "name": "python",
   "nbconvert_exporter": "python",
   "pygments_lexer": "ipython3",
   "version": "3.8.10"
  }
 },
 "nbformat": 4,
 "nbformat_minor": 4
}
