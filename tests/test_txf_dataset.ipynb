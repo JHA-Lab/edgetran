{
 "cells": [
  {
   "cell_type": "code",
   "execution_count": 1,
   "metadata": {},
   "outputs": [],
   "source": [
    "import os\n",
    "import sys\n",
    "\n",
    "sys.path.append('../grow_and_prune/')\n",
    "\n",
    "from treelib import Tree, Node\n",
    "from copy import deepcopy\n",
    "import json\n",
    "\n",
    "from txf_dataset import TxfNode, TxfDataset"
   ]
  },
  {
   "cell_type": "code",
   "execution_count": 2,
   "metadata": {},
   "outputs": [
    {
     "name": "stdout",
     "output_type": "stream",
     "text": [
      "1[model_hash]\n",
      "├── 0.9[child_model_hash]\n",
      "╰── 0.89[child_model_hash2]\n",
      "    ╰── 0.91[grand_child_model_hash]\n",
      "\n"
     ]
    }
   ],
   "source": [
    "# Test basic treelib.Tree object and its load/store\n",
    "tree = Tree()\n",
    "\n",
    "tree.create_node(tag='model_hash', identifier='model_hash', \n",
    "                 data=TxfNode('model_hash', mode=None, loss=1))\n",
    "tree.create_node(tag='child_model_hash', identifier='child_model_hash', parent=tree.get_node('model_hash'),\n",
    "                 data=TxfNode('child_model_hash', mode='grow_attn_head', loss=0.9))\n",
    "tree.create_node(tag='child_model_hash2', identifier='child_model_hash2', parent=tree.get_node('model_hash'),\n",
    "                 data=TxfNode('child_model_hash2', mode='grow_attn_head', loss=0.89))\n",
    "tree.create_node(tag='grand_child_model_hash', identifier='grand_child_model_hash', \n",
    "                 parent=tree.get_node('child_model_hash2'),\n",
    "                 data=TxfNode('grand_child_model_hash', mode='prune_attn_head', loss=0.91))\n",
    "\n",
    "tree.show(data_property='loss', idhidden=False, line_type='ascii-exr')"
   ]
  },
  {
   "cell_type": "code",
   "execution_count": 5,
   "metadata": {},
   "outputs": [
    {
     "name": "stdout",
     "output_type": "stream",
     "text": [
      "model_hash\n"
     ]
    },
    {
     "data": {
      "text/plain": [
       "[Node(tag=child_model_hash, identifier=child_model_hash, data={'model_hash': 'child_model_hash', 'mode': 'grow_attn_head', 'loss': 0.9}),\n",
       " Node(tag=child_model_hash2, identifier=child_model_hash2, data={'model_hash': 'child_model_hash2', 'mode': 'grow_attn_head', 'loss': 0.89})]"
      ]
     },
     "execution_count": 5,
     "metadata": {},
     "output_type": "execute_result"
    }
   ],
   "source": [
    "# Get the identifier of the root node\n",
    "print(tree.root)\n",
    "\n",
    "# Get the children of a node\n",
    "tree.children('model_hash')"
   ]
  },
  {
   "cell_type": "code",
   "execution_count": 3,
   "metadata": {},
   "outputs": [],
   "source": [
    "# Test storing of the tree object\n",
    "tree = Tree()\n",
    "\n",
    "tree.create_node(tag='model_hash', identifier='model_hash', \n",
    "                 data=TxfNode('model_hash', mode=None, loss=1))\n",
    "tree.create_node(tag='child_model_hash', identifier='child_model_hash', parent=tree.get_node('model_hash'),\n",
    "                 data=TxfNode('child_model_hash', mode='grow_attn_head', loss=0.9))\n",
    "\n",
    "tree_dict = eval(str(tree.to_dict(with_data=True)))\n",
    "json.dump(tree_dict, open('test_dataset.json', 'w+'))"
   ]
  },
  {
   "cell_type": "code",
   "execution_count": 53,
   "metadata": {},
   "outputs": [
    {
     "name": "stdout",
     "output_type": "stream",
     "text": [
      "1[model_hash]\n",
      "╰── 0.9[child_model_hash]\n",
      "\n"
     ]
    }
   ],
   "source": [
    "# Test loading of tree object\n",
    "json_dict = json.load(open('test_dataset.json', 'r'))\n",
    "\n",
    "def _load_tree(tree: Tree, tree_dict: dict, parent=None):\n",
    "    \"\"\"Recursive function to load the tree\n",
    "\n",
    "    Args:\n",
    "        tree (Tree): treelib.Tree object\n",
    "        tree_dict (dict): tree dictionary loaded from dataset_file\n",
    "        parent (Node, optional): parent node to start with\n",
    "    \"\"\"\n",
    "    model_hash, model_value = list(tree_dict.items())[0]\n",
    "\n",
    "    if parent is None:\n",
    "        tree.create_node(tag=model_hash, identifier=model_hash, data=TxfNode(**model_value['data']))\n",
    "        parent = tree.get_node(model_hash)\n",
    "    else:\n",
    "        tree.create_node(tag=model_hash, identifier=model_hash, parent=parent, data=TxfNode(**model_value['data']))\n",
    "\n",
    "    for child in tree_dict[model_hash].get('children', []):  \n",
    "        _load_tree(tree, child, parent)\n",
    "\n",
    "    return tree\n",
    "\n",
    "tree = _load_tree(Tree(), json_dict)\n",
    "tree.show(data_property='loss', idhidden=False, line_type='ascii-exr')"
   ]
  },
  {
   "cell_type": "code",
   "execution_count": 25,
   "metadata": {},
   "outputs": [
    {
     "data": {
      "text/plain": [
       "{'model_hash': {'children': [{'child_model_hash': {'data': {'model_hash': 'child_model_hash',\n",
       "      'mode': 'grow_attn_head',\n",
       "      'loss': 0.9}}}],\n",
       "  'data': {'model_hash': 'model_hash', 'mode': None, 'loss': 1}}}"
      ]
     },
     "execution_count": 25,
     "metadata": {},
     "output_type": "execute_result"
    }
   ],
   "source": [
    "# Test TxfDataset\n",
    "txf_dataset = TxfDataset('./test_dataset.json', '../models/')\n",
    "\n",
    "txf_dataset.to_dict()"
   ]
  },
  {
   "cell_type": "code",
   "execution_count": 41,
   "metadata": {},
   "outputs": [
    {
     "data": {
      "text/plain": [
       "{'model_hash': {'children': [{'child_model_hash': {'data': {'model_hash': 'child_model_hash',\n",
       "      'mode': 'grow_attn_head',\n",
       "      'loss': 0.85}}}],\n",
       "  'data': {'model_hash': 'model_hash', 'mode': None, 'loss': 1}}}"
      ]
     },
     "execution_count": 41,
     "metadata": {},
     "output_type": "execute_result"
    }
   ],
   "source": [
    "# Test update_node()\n",
    "# txf_dataset.dataset.update_node('child_model_hash', data=TxfNode('child_model_hash', \n",
    "#                                         txf_dataset.dataset.get_node('child_model_hash').data.mode,\n",
    "#                                         0.85))\n",
    "# txf_dataset.to_dict()\n",
    "\n",
    "txf_dataset.dataset['child_model_hash'].data.loss = 0.85\n",
    "txf_dataset.to_dict()"
   ]
  },
  {
   "cell_type": "code",
   "execution_count": 7,
   "metadata": {},
   "outputs": [
    {
     "name": "stdout",
     "output_type": "stream",
     "text": [
      "\u001b[94mModel with best loss (1.318) has hash: fa8fab36a056ef491e17f7100b8ccbf5\u001b[0m\n",
      "1.322[8b20da51c159887b310cabce176da7fb]\n",
      "├── 1.3197[4813d0282fdffa4cd219318c04249a5d]\n",
      "├── 1.3191[b8f4c354531c9499aaab1727c5e3e5e8]\n",
      "├── 1.322[c9d0e9133b10da6af36b6c1643da3db5]\n",
      "├── 1.319[f811b9a9f5d93fd00e2c9d8d7017fa02]\n",
      "╰── 1.318[fa8fab36a056ef491e17f7100b8ccbf5]\n",
      "\n",
      "100000[8b20da51c159887b310cabce176da7fb]\n",
      "├── 110000[4813d0282fdffa4cd219318c04249a5d]\n",
      "├── 110000[b8f4c354531c9499aaab1727c5e3e5e8]\n",
      "├── 110000[c9d0e9133b10da6af36b6c1643da3db5]\n",
      "├── 110000[f811b9a9f5d93fd00e2c9d8d7017fa02]\n",
      "╰── 110000[fa8fab36a056ef491e17f7100b8ccbf5]\n",
      "\n",
      "None[8b20da51c159887b310cabce176da7fb]\n",
      "├── grow_attn_head[4813d0282fdffa4cd219318c04249a5d]\n",
      "├── grow_attn_head[b8f4c354531c9499aaab1727c5e3e5e8]\n",
      "├── grow_attn_head[c9d0e9133b10da6af36b6c1643da3db5]\n",
      "├── grow_attn_head[f811b9a9f5d93fd00e2c9d8d7017fa02]\n",
      "╰── grow_attn_head[fa8fab36a056ef491e17f7100b8ccbf5]\n",
      "\n"
     ]
    }
   ],
   "source": [
    "# Preparing and saving preliminary dataset\n",
    "BERT_BASE_HASH = '8b20da51c159887b310cabce176da7fb'\n",
    "BERT_BASE_LOSS = 1.322 \n",
    "BERT_BASE_STEPS = 100000\n",
    "\n",
    "models_dir = '../models'\n",
    "txf_dataset_file = '../grow_and_prune/dataset/dataset_base.json'\n",
    "\n",
    "txf_dataset = TxfDataset(txf_dataset_file, models_dir, debug=True)\n",
    "\n",
    "txf_dataset.add_node(model_hash=BERT_BASE_HASH, \n",
    "                     mode=None, \n",
    "                     loss=BERT_BASE_LOSS, \n",
    "                     steps=BERT_BASE_STEPS, \n",
    "                     parent_model_hash=None)\n",
    "\n",
    "for model_hash in os.listdir(models_dir):\n",
    "    if 'log_history.json' not in os.listdir(os.path.join(models_dir, model_hash)) or model_hash == BERT_BASE_HASH:\n",
    "        continue\n",
    "    txf_dataset.add_node(model_hash=model_hash, \n",
    "                         mode='grow_attn_head', \n",
    "                         loss=None, \n",
    "                         steps=None, \n",
    "                         parent_model_hash=BERT_BASE_HASH)\n",
    "    \n",
    "txf_dataset.update_dataset()\n",
    "txf_dataset.show_dataset(data_property='loss')\n",
    "txf_dataset.show_dataset(data_property='steps')\n",
    "txf_dataset.show_dataset(data_property='mode')"
   ]
  }
 ],
 "metadata": {
  "kernelspec": {
   "display_name": "txf_design-space [~/.conda/envs/txf_design-space/]",
   "language": "python",
   "name": "conda_txf_design-space"
  },
  "language_info": {
   "codemirror_mode": {
    "name": "ipython",
    "version": 3
   },
   "file_extension": ".py",
   "mimetype": "text/x-python",
   "name": "python",
   "nbconvert_exporter": "python",
   "pygments_lexer": "ipython3",
   "version": "3.8.10"
  }
 },
 "nbformat": 4,
 "nbformat_minor": 4
}
