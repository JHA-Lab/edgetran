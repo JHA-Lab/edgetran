{
 "cells": [
  {
   "cell_type": "code",
   "execution_count": 10,
   "metadata": {},
   "outputs": [],
   "source": [
    "import os\n",
    "import sys\n",
    "\n",
    "sys.path.append('../global_search/')\n",
    "sys.path.append('../../txf_design_space/embeddings')\n",
    "\n",
    "from utils import embedding_util\n",
    "\n",
    "from utils import graph_util \n",
    "\n",
    "import yaml\n",
    "import collections\n",
    "from skopt.sampler import Sobol"
   ]
  },
  {
   "cell_type": "code",
   "execution_count": 3,
   "metadata": {},
   "outputs": [],
   "source": [
    "# Load design space\n",
    "design_space = yaml.safe_load(open('../global_search/design_space/design_space.yaml'))"
   ]
  },
  {
   "cell_type": "code",
   "execution_count": 4,
   "metadata": {},
   "outputs": [
    {
     "name": "stdout",
     "output_type": "stream",
     "text": [
      "BERT-Mini's embedding: [1, 1, 2, 28, 1, 2, 28, 1, 2, 28, 1, 2, 28, 0, 0, 0, 0, 0, 0, 0, 0, 0, 0, 0, 0, 0, 0, 0, 0, 0, 0, 0, 0, 0, 0, 0, 0]\n",
      "BERT-Mini's model dictionary: {'l': 4, 'o': [['sa_sdp_64', 'sa_sdp_64', 'sa_sdp_64', 'sa_sdp_64'], ['sa_sdp_64', 'sa_sdp_64', 'sa_sdp_64', 'sa_sdp_64'], ['sa_sdp_64', 'sa_sdp_64', 'sa_sdp_64', 'sa_sdp_64'], ['sa_sdp_64', 'sa_sdp_64', 'sa_sdp_64', 'sa_sdp_64']], 'h': [256, 256, 256, 256], 'f': [[1024], [1024], [1024], [1024]]}\n"
     ]
    }
   ],
   "source": [
    "# Check basic conversion to \n",
    "bert_mini_model_dict = {\"l\": 4, \"o\": \n",
    "                        [[\"sa_sdp_64\", \"sa_sdp_64\", \"sa_sdp_64\", \"sa_sdp_64\"], \n",
    "                         [\"sa_sdp_64\", \"sa_sdp_64\", \"sa_sdp_64\", \"sa_sdp_64\"], \n",
    "                         [\"sa_sdp_64\", \"sa_sdp_64\", \"sa_sdp_64\", \"sa_sdp_64\"], \n",
    "                         [\"sa_sdp_64\", \"sa_sdp_64\", \"sa_sdp_64\", \"sa_sdp_64\"]], \n",
    "                        \"h\": [256, 256, 256, 256], \"f\": [[1024], [1024], [1024], [1024]]}\n",
    "\n",
    "bert_mini_embedding = embedding_util.model_dict_to_embedding(bert_mini_model_dict, design_space)\n",
    "\n",
    "print(f'BERT-Mini\\'s embedding: {bert_mini_embedding}')\n",
    "\n",
    "model_dict = embedding_util.embedding_to_model_dict(bert_mini_embedding, design_space)\n",
    "\n",
    "print(f'BERT-Mini\\'s model dictionary: {model_dict}')"
   ]
  },
  {
   "cell_type": "code",
   "execution_count": 5,
   "metadata": {},
   "outputs": [
    {
     "data": {
      "text/plain": [
       "True"
      ]
     },
     "execution_count": 5,
     "metadata": {},
     "output_type": "execute_result"
    }
   ],
   "source": [
    "# Check if BERT-Mini's embedding is valid\n",
    "embedding_util.is_valid_embedding(bert_mini_embedding, design_space)"
   ]
  },
  {
   "cell_type": "code",
   "execution_count": 12,
   "metadata": {},
   "outputs": [
    {
     "name": "stdout",
     "output_type": "stream",
     "text": [
      "Narrow model types: Counter({'deep_narrow': 64, 'shallow_narrow': 64})\n",
      "Wide model types: Counter({'deep_wide': 64, 'shallow_wide': 64})\n"
     ]
    }
   ],
   "source": [
    "# Test Sobol samples\n",
    "narrow_sampler = Sobol()\n",
    "wide_sampler = Sobol()\n",
    "\n",
    "narrow_embedding_bounds = embedding_util.get_embedding_bounds(design_space, type='narrow')\n",
    "wide_embedding_bounds = embedding_util.get_embedding_bounds(design_space, type='wide')\n",
    "\n",
    "narrow_sampled_embeddings = narrow_sampler.generate(narrow_embedding_bounds, 128)\n",
    "wide_sampled_embeddings = wide_sampler.generate(wide_embedding_bounds, 128)\n",
    "\n",
    "narrow_valid_embeddings = \\\n",
    "    [embedding_util.get_nearest_valid_embedding(embedding, design_space) for embedding in narrow_sampled_embeddings]\n",
    "wide_valid_embeddings = \\\n",
    "    [embedding_util.get_nearest_valid_embedding(embedding, design_space) for embedding in wide_sampled_embeddings]\n",
    "\n",
    "narrow_model_dicts = \\\n",
    "    [embedding_util.embedding_to_model_dict(embedding, design_space) for embedding in narrow_valid_embeddings]\n",
    "wide_model_dicts = \\\n",
    "    [embedding_util.embedding_to_model_dict(embedding, design_space) for embedding in wide_valid_embeddings]\n",
    "\n",
    "narrow_model_types = [embedding_util.get_model_type(model_dict, design_space) for model_dict in narrow_model_dicts]\n",
    "wide_model_types = [embedding_util.get_model_type(model_dict, design_space) for model_dict in wide_model_dicts]\n",
    "\n",
    "print(f'Narrow model types: {collections.Counter(narrow_model_types)}')\n",
    "print(f'Wide model types: {collections.Counter(wide_model_types)}')\n",
    "\n",
    "all_model_dicts = narrow_model_dicts + wide_model_dicts\n",
    "all_hashes = []\n",
    "\n",
    "for model_dict in all_model_dicts:\n",
    "    model_graph = graph_util.model_dict_to_graph(model_dict)\n",
    "    model_hash = graph_util.hash_graph(*model_graph, model_dict=model_dict)\n",
    "    all_hashes.append(model_hash)\n",
    "    \n",
    "assert len(set(all_hashes)) == len(all_model_dicts) "
   ]
  }
 ],
 "metadata": {
  "kernelspec": {
   "display_name": "txf_design-space [~/.conda/envs/txf_design-space/]",
   "language": "python",
   "name": "conda_txf_design-space"
  },
  "language_info": {
   "codemirror_mode": {
    "name": "ipython",
    "version": 3
   },
   "file_extension": ".py",
   "mimetype": "text/x-python",
   "name": "python",
   "nbconvert_exporter": "python",
   "pygments_lexer": "ipython3",
   "version": "3.8.10"
  }
 },
 "nbformat": 4,
 "nbformat_minor": 4
}
